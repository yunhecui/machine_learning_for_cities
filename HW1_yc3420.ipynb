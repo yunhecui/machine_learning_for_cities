{
 "cells": [
  {
   "cell_type": "markdown",
   "metadata": {},
   "source": [
    "Total points for this HW: 100.\n",
    "\n",
    "Please note: Copying and pasting other people's work is absolutely prohibited.  Any such cases will be reported to CUSP's education team and severely punished. Discussion is encouraged, and feel free to exchange ideas with your classmates, but please write your own code and do your own work."
   ]
  },
  {
   "cell_type": "markdown",
   "metadata": {
    "collapsed": true
   },
   "source": [
    "### Question 1: Accuracy and interpretability (10 pts)\n",
    "\n",
    "a) Describe a real-world prediction problem using urban data for which _interpretability_ of your models and results is essential, and for which it might be preferable to use decision trees rather than random forests.  Argue why this is the case. (3 pts)"
   ]
  },
  {
   "cell_type": "markdown",
   "metadata": {},
   "source": [
    "**The decision trees could be superior to random forest when the interpretability is more important in the problem.  Also, decision trees could be shown to non-tech people to explain how we come up with the conclusion. For example: when we try to predict whether there is a traffic jam in a certain place, we could use a few features (car number, average speed from historical data, traffic light number, traffic light length) to construct a decision tree.**\n"
   ]
  },
  {
   "cell_type": "markdown",
   "metadata": {},
   "source": [
    "b) Describe a real-world prediction problem using urban data for which _accuracy_ is paramount and interpretability may be less important, and for which it might be preferable to use random forests rather than decision trees.  Argue why this is the case. (3 pts)"
   ]
  },
  {
   "cell_type": "markdown",
   "metadata": {},
   "source": [
    "**The prediction of house price. People usually do not care too much about how the conclusion is came up with, for example, people usually do not care about what is the coefficient of an extra bathroom or a balcony when predicting the house price, rather, they will more focus on the final prediction results. Moreover, in this kind of prediction, there are too many features that could lead to overfitting with the decision tree method.**"
   ]
  },
  {
   "cell_type": "markdown",
   "metadata": {},
   "source": [
    "c) Let's imagine that you want to try to get the best of both worlds (accuracy _and_ interpretability).  So you decide to start by learning a random forest classifier.  Describe at least one way of getting some interpretability out of the model by post-processing.  You could either pick a method from the literature (e.g., Domingos's work on combining multiple models or some method of computing variable importance), or come up with your own approach (doesn't have to be ground-breaking, but feel free to be creative!) (4 pts)"
   ]
  },
  {
   "cell_type": "markdown",
   "metadata": {},
   "source": [
    "**As we known previously, random forest is more concentrated on accuracy and it performed as a blackbox. One way of getting an insight into a random forest is to compute feature importances, either by permuting the values of each feature one by one and checking how it changes the model performance or computing the amount of “impurity” (typically variance in case of regression trees and gini coefficient or entropy in case of classification trees) each feature removes when it is used in node. **"
   ]
  },
  {
   "cell_type": "markdown",
   "metadata": {},
   "source": [
    "###  Question 2: Build a decision tree for classification, step by step, following the lecture notes. Note that the dataset has been slightly modified, so you will get a different tree than the one shown in the lecture notes.  (30 points)"
   ]
  },
  {
   "cell_type": "code",
   "execution_count": 1,
   "metadata": {},
   "outputs": [],
   "source": [
    "import pandas as pd\n",
    "import numpy as np\n",
    "import math"
   ]
  },
  {
   "cell_type": "code",
   "execution_count": 2,
   "metadata": {},
   "outputs": [
    {
     "data": {
      "text/html": [
       "<div>\n",
       "<table border=\"1\" class=\"dataframe\">\n",
       "  <thead>\n",
       "    <tr style=\"text-align: right;\">\n",
       "      <th></th>\n",
       "      <th>MPG</th>\n",
       "      <th>cylinders</th>\n",
       "      <th>HP</th>\n",
       "      <th>weight</th>\n",
       "    </tr>\n",
       "  </thead>\n",
       "  <tbody>\n",
       "    <tr>\n",
       "      <th>0</th>\n",
       "      <td>good</td>\n",
       "      <td>4</td>\n",
       "      <td>75</td>\n",
       "      <td>light</td>\n",
       "    </tr>\n",
       "    <tr>\n",
       "      <th>1</th>\n",
       "      <td>bad</td>\n",
       "      <td>6</td>\n",
       "      <td>90</td>\n",
       "      <td>medium</td>\n",
       "    </tr>\n",
       "    <tr>\n",
       "      <th>2</th>\n",
       "      <td>bad</td>\n",
       "      <td>4</td>\n",
       "      <td>110</td>\n",
       "      <td>medium</td>\n",
       "    </tr>\n",
       "    <tr>\n",
       "      <th>3</th>\n",
       "      <td>bad</td>\n",
       "      <td>8</td>\n",
       "      <td>175</td>\n",
       "      <td>weighty</td>\n",
       "    </tr>\n",
       "    <tr>\n",
       "      <th>4</th>\n",
       "      <td>bad</td>\n",
       "      <td>6</td>\n",
       "      <td>95</td>\n",
       "      <td>medium</td>\n",
       "    </tr>\n",
       "    <tr>\n",
       "      <th>5</th>\n",
       "      <td>bad</td>\n",
       "      <td>4</td>\n",
       "      <td>94</td>\n",
       "      <td>light</td>\n",
       "    </tr>\n",
       "    <tr>\n",
       "      <th>6</th>\n",
       "      <td>bad</td>\n",
       "      <td>4</td>\n",
       "      <td>95</td>\n",
       "      <td>light</td>\n",
       "    </tr>\n",
       "    <tr>\n",
       "      <th>7</th>\n",
       "      <td>bad</td>\n",
       "      <td>8</td>\n",
       "      <td>139</td>\n",
       "      <td>weighty</td>\n",
       "    </tr>\n",
       "    <tr>\n",
       "      <th>8</th>\n",
       "      <td>bad</td>\n",
       "      <td>8</td>\n",
       "      <td>190</td>\n",
       "      <td>weighty</td>\n",
       "    </tr>\n",
       "    <tr>\n",
       "      <th>9</th>\n",
       "      <td>bad</td>\n",
       "      <td>8</td>\n",
       "      <td>145</td>\n",
       "      <td>weighty</td>\n",
       "    </tr>\n",
       "    <tr>\n",
       "      <th>10</th>\n",
       "      <td>bad</td>\n",
       "      <td>6</td>\n",
       "      <td>100</td>\n",
       "      <td>medium</td>\n",
       "    </tr>\n",
       "    <tr>\n",
       "      <th>11</th>\n",
       "      <td>good</td>\n",
       "      <td>4</td>\n",
       "      <td>92</td>\n",
       "      <td>medium</td>\n",
       "    </tr>\n",
       "    <tr>\n",
       "      <th>12</th>\n",
       "      <td>bad</td>\n",
       "      <td>6</td>\n",
       "      <td>100</td>\n",
       "      <td>weighty</td>\n",
       "    </tr>\n",
       "    <tr>\n",
       "      <th>13</th>\n",
       "      <td>bad</td>\n",
       "      <td>8</td>\n",
       "      <td>170</td>\n",
       "      <td>weighty</td>\n",
       "    </tr>\n",
       "    <tr>\n",
       "      <th>14</th>\n",
       "      <td>good</td>\n",
       "      <td>4</td>\n",
       "      <td>89</td>\n",
       "      <td>medium</td>\n",
       "    </tr>\n",
       "    <tr>\n",
       "      <th>15</th>\n",
       "      <td>good</td>\n",
       "      <td>4</td>\n",
       "      <td>65</td>\n",
       "      <td>light</td>\n",
       "    </tr>\n",
       "    <tr>\n",
       "      <th>16</th>\n",
       "      <td>bad</td>\n",
       "      <td>6</td>\n",
       "      <td>85</td>\n",
       "      <td>medium</td>\n",
       "    </tr>\n",
       "    <tr>\n",
       "      <th>17</th>\n",
       "      <td>good</td>\n",
       "      <td>4</td>\n",
       "      <td>81</td>\n",
       "      <td>light</td>\n",
       "    </tr>\n",
       "    <tr>\n",
       "      <th>18</th>\n",
       "      <td>bad</td>\n",
       "      <td>6</td>\n",
       "      <td>95</td>\n",
       "      <td>medium</td>\n",
       "    </tr>\n",
       "    <tr>\n",
       "      <th>19</th>\n",
       "      <td>bad</td>\n",
       "      <td>4</td>\n",
       "      <td>93</td>\n",
       "      <td>light</td>\n",
       "    </tr>\n",
       "  </tbody>\n",
       "</table>\n",
       "</div>"
      ],
      "text/plain": [
       "     MPG  cylinders   HP   weight\n",
       "0   good          4   75    light\n",
       "1    bad          6   90   medium\n",
       "2    bad          4  110   medium\n",
       "3    bad          8  175  weighty\n",
       "4    bad          6   95   medium\n",
       "5    bad          4   94    light\n",
       "6    bad          4   95    light\n",
       "7    bad          8  139  weighty\n",
       "8    bad          8  190  weighty\n",
       "9    bad          8  145  weighty\n",
       "10   bad          6  100   medium\n",
       "11  good          4   92   medium\n",
       "12   bad          6  100  weighty\n",
       "13   bad          8  170  weighty\n",
       "14  good          4   89   medium\n",
       "15  good          4   65    light\n",
       "16   bad          6   85   medium\n",
       "17  good          4   81    light\n",
       "18   bad          6   95   medium\n",
       "19   bad          4   93    light"
      ]
     },
     "execution_count": 2,
     "metadata": {},
     "output_type": "execute_result"
    }
   ],
   "source": [
    "from StringIO import StringIO\n",
    "thefile = StringIO('MPG,cylinders,HP,weight\\ngood,4,75,light\\nbad,6,90,medium\\nbad,4,110,medium\\nbad,8,175,weighty\\nbad,6,95,medium\\nbad,4,94,light\\nbad,4,95,light\\nbad,8,139,weighty\\nbad,8,190,weighty\\nbad,8,145,weighty\\nbad,6,100,medium\\ngood,4,92,medium\\nbad,6,100,weighty\\nbad,8,170,weighty\\ngood,4,89,medium\\ngood,4,65,light\\nbad,6,85,medium\\ngood,4,81,light\\nbad,6,95,medium\\nbad,4,93,light')\n",
    "df = pd.read_csv(thefile)\n",
    "df"
   ]
  },
  {
   "cell_type": "markdown",
   "metadata": {},
   "source": [
    "### Please use numpy and pandas to do the computation for parts a) through f).  Do not use an existing decision tree implementation like sklearn for this question."
   ]
  },
  {
   "cell_type": "markdown",
   "metadata": {},
   "source": [
    "a) Start with the entire dataset and find the most common MPG value. (2 pts)"
   ]
  },
  {
   "cell_type": "code",
   "execution_count": 3,
   "metadata": {},
   "outputs": [
    {
     "name": "stdout",
     "output_type": "stream",
     "text": [
      "bad is the most common MPG, the value is 15\n"
     ]
    }
   ],
   "source": [
    "goodct = 0\n",
    "badct = 0\n",
    "for i in range(0,len(df)):\n",
    "    if df.iloc[i]['MPG'] == 'good':\n",
    "        goodct += 1\n",
    "    elif df.iloc[i]['MPG'] == 'bad':\n",
    "        badct += 1\n",
    "    else:\n",
    "        print (\"something went wrong with the raw data, please check!\")\n",
    "if goodct > badct:\n",
    "    print (\"good is the most common MPG, the value is %d\" %goodct)\n",
    "else:\n",
    "    print (\"bad is the most common MPG, the value is %d\" %badct)"
   ]
  },
  {
   "cell_type": "markdown",
   "metadata": {},
   "source": [
    "### The above one gives the common MPG count and also thoroughly examed the data while the below one is precise enough. "
   ]
  },
  {
   "cell_type": "code",
   "execution_count": 4,
   "metadata": {},
   "outputs": [
    {
     "data": {
      "text/plain": [
       "bad     15\n",
       "good     5\n",
       "Name: MPG, dtype: int64"
      ]
     },
     "execution_count": 4,
     "metadata": {},
     "output_type": "execute_result"
    }
   ],
   "source": [
    "df['MPG'].value_counts()"
   ]
  },
  {
   "cell_type": "code",
   "execution_count": 5,
   "metadata": {},
   "outputs": [],
   "source": [
    "def InformationGain(goodY,badY,goodN,badN):\n",
    "    def F(X,Y):\n",
    "        val1 = X*np.log2(1.*(X+Y)/X) if X>0 else 0\n",
    "        val2 = Y*np.log2(1.*(X+Y)/Y) if Y>0 else 0\n",
    "        return val1+val2\n",
    "    return (F(goodY+goodN,badY+badN)-F(goodY,badY)-F(goodN,badN)) / (goodY+goodN+badY+badN)"
   ]
  },
  {
   "cell_type": "markdown",
   "metadata": {},
   "source": [
    "b) Enumerate all the possible binary questions you could ask for each discrete-valued variable.  For each such split, compute the numbers of \"good\" and \"bad\" MPG vehicles in each of the two child nodes, and compute the information gain using the provided function above. (5 pts)"
   ]
  },
  {
   "cell_type": "code",
   "execution_count": 6,
   "metadata": {},
   "outputs": [
    {
     "data": {
      "text/plain": [
       "{4: 0.36529389753193281,\n",
       " 6: 0.15307795338969116,\n",
       " 8: 0.12255624891826571,\n",
       " 'light': 0.097107179451503628,\n",
       " 'medium': 8.8817841970012528e-17,\n",
       " 'weighty': 0.15307795338969116}"
      ]
     },
     "execution_count": 6,
     "metadata": {},
     "output_type": "execute_result"
    }
   ],
   "source": [
    "# your code here\n",
    "gaindic = {}\n",
    "\n",
    "def binary_node (dataframe,columns):\n",
    "    for name in columns:\n",
    "        ls = dataframe[name].unique().tolist()\n",
    "        for r in ls:\n",
    "            goodY,badY,goodN,badN = 0,0,0,0\n",
    "            for i in range(0,len(df)):\n",
    "                if df.iloc[i][name] == r:\n",
    "                    if df.iloc[i]['MPG'] == 'good':\n",
    "                        goodY +=1\n",
    "                    else: badY += 1\n",
    "                else: \n",
    "                    if df.iloc[i]['MPG'] == 'good':\n",
    "                        goodN +=1\n",
    "                    else: badN += 1\n",
    "            gaindic[r] = InformationGain(goodY,badY,goodN,badN)\n",
    "    return gaindic\n",
    "    \n",
    "gaindic = binary_node(df,['cylinders','weight'])\n",
    "gaindic"
   ]
  },
  {
   "cell_type": "code",
   "execution_count": null,
   "metadata": {},
   "outputs": [],
   "source": []
  },
  {
   "cell_type": "markdown",
   "metadata": {},
   "source": [
    "c) Enumerate all the possible binary questions you could ask for the real-valued variable HP.  For each such split, compute the numbers of \"good\" and \"bad\" MPG vehicles in each of the two child nodes, and compute the information gain using the provided function above. (5 pts) \n",
    "\n",
    "NOTE: if you'd like, you can just use all midpoints between consecutive values of the sorted HP attribute.  You are not required to exclude provably suboptimal questions like we did in the lecture."
   ]
  },
  {
   "cell_type": "code",
   "execution_count": 7,
   "metadata": {
    "scrolled": true
   },
   "outputs": [
    {
     "name": "stdout",
     "output_type": "stream",
     "text": [
      "('the max information gain is', 0.50918592546081209)\n",
      "('the node value is', 92.5)\n"
     ]
    },
    {
     "name": "stderr",
     "output_type": "stream",
     "text": [
      "/usr/local/Anaconda3-5.0.0-Linux-x86_64/envs/PUI2016_Python2/lib/python2.7/site-packages/ipykernel/__main__.py:3: FutureWarning: sort(columns=....) is deprecated, use sort_values(by=.....)\n",
      "  app.launch_new_instance()\n"
     ]
    }
   ],
   "source": [
    "def FindNode(df,column):    \n",
    "    #first, sort the df['HP']\n",
    "    df = df.sort(columns = column)\n",
    "    ls = []\n",
    "    dic = {}\n",
    "    #then get the midpoints between consecutive values\n",
    "    for i in range(len(df)-1):\n",
    "        goodY,badY,goodN,badN = 0,0,0,0\n",
    "        midpoint = (df.iloc[i][column] + df.iloc[i+1][column])/2.0\n",
    "        for m in range(len(df)):\n",
    "            if df.iloc[m][column] > midpoint:\n",
    "                if df.iloc[m]['MPG'] == 'good':\n",
    "                        goodY +=1\n",
    "                else: badY += 1\n",
    "            else:\n",
    "                if df.iloc[m]['MPG'] == 'good':\n",
    "                        goodN +=1\n",
    "                else: badN += 1\n",
    "        ls.append(InformationGain(goodY,badY,goodN,badN))\n",
    "        node_index = ls.index(max(ls))\n",
    "        gain_max = max(ls)\n",
    "        node_value = (df.iloc[node_index][column] + df.iloc[node_index+1][column])/2.0\n",
    "        dic[node_value] = InformationGain(goodY,badY,goodN,badN)\n",
    "    return dic,gain_max,node_value\n",
    "        \n",
    "gaindic_bi, gain_max ,node_value = FindNode(df,'HP')\n",
    "node_notetaker = {}\n",
    "if gain_max > max(gaindic.values()):\n",
    "    print ('the max information gain is', gain_max)\n",
    "    print ('the node value is', node_value)\n",
    "    node_notetaker['HP'] = node_value\n",
    "else: \n",
    "    print max(gaindic)\n",
    "    node_notetaker[max(gaindic)] = max(gaindic.values())\n",
    "\n"
   ]
  },
  {
   "cell_type": "markdown",
   "metadata": {},
   "source": [
    "d) Based on your results for parts b and c, what is the optimal binary split of the data?  Of the two child nodes created by this split, which (if any) would require further partitioning? (4 pts)"
   ]
  },
  {
   "cell_type": "markdown",
   "metadata": {},
   "source": [
    "##### first node: HP > 92.5?  The one that HP <= 92.5 need further partitioning (the leaf is not 'pure' enough)"
   ]
  },
  {
   "cell_type": "markdown",
   "metadata": {},
   "source": [
    "e) Repeat parts a through d until all training data points are perfectly classified by the resulting tree. (6 pts)"
   ]
  },
  {
   "cell_type": "code",
   "execution_count": 8,
   "metadata": {},
   "outputs": [],
   "source": [
    "def DivideDf(df, column, value):\n",
    "    # Divide the rows into two sets and return them\n",
    "    if isinstance(value,int) or isinstance(value,float):\n",
    "        subset1= df.loc[df[column] > value]\n",
    "        subset2= df.loc[df[column] <= value]\n",
    "    else:\n",
    "        subset1= df.loc[df[column] == value] \n",
    "        subset2= df.loc[df[column] != value]\n",
    "    return (subset1,subset2)"
   ]
  },
  {
   "cell_type": "code",
   "execution_count": 9,
   "metadata": {},
   "outputs": [],
   "source": [
    "#purity test:\n",
    "def purity_test(set_name):\n",
    "    if set_name['MPG'].value_counts().size == 1:\n",
    "        return ('the leaf is pure')\n",
    "    else: return ('Further partitioning needed')"
   ]
  },
  {
   "cell_type": "code",
   "execution_count": 10,
   "metadata": {},
   "outputs": [],
   "source": [
    "#\n",
    "set1,set2 = DivideDf(df,'HP',node_value)"
   ]
  },
  {
   "cell_type": "code",
   "execution_count": 11,
   "metadata": {},
   "outputs": [
    {
     "data": {
      "text/plain": [
       "'the leaf is pure'"
      ]
     },
     "execution_count": 11,
     "metadata": {},
     "output_type": "execute_result"
    }
   ],
   "source": [
    "purity_set1 = purity_test(set1)\n",
    "purity_set1"
   ]
  },
  {
   "cell_type": "code",
   "execution_count": 12,
   "metadata": {},
   "outputs": [
    {
     "data": {
      "text/plain": [
       "'Further partitioning needed'"
      ]
     },
     "execution_count": 12,
     "metadata": {},
     "output_type": "execute_result"
    }
   ],
   "source": [
    "purity_set2 = purity_test(set2)\n",
    "purity_set2"
   ]
  },
  {
   "cell_type": "code",
   "execution_count": 13,
   "metadata": {
    "scrolled": true
   },
   "outputs": [
    {
     "name": "stderr",
     "output_type": "stream",
     "text": [
      "/usr/local/Anaconda3-5.0.0-Linux-x86_64/envs/PUI2016_Python2/lib/python2.7/site-packages/ipykernel/__main__.py:3: FutureWarning: sort(columns=....) is deprecated, use sort_values(by=.....)\n",
      "  app.launch_new_instance()\n"
     ]
    }
   ],
   "source": [
    "test_columns = ['cylinders','weight']\n",
    "gaindic = binary_node(set1,test_columns)\n",
    "gaindic_bi, node_index,node_value = FindNode(set1,'HP')\n",
    "\n",
    "dic = dict(gaindic.items() + gaindic_bi.items())\n",
    "next_node = max(dic, key=dic.get)\n",
    "\n",
    "for i in test_columns:\n",
    "    if next_node in set1[i].unique().tolist():\n",
    "        column_name = i\n",
    "        break\n",
    "    else: column_name = 'HP'\n",
    "node_notetaker[column_name] = next_node"
   ]
  },
  {
   "cell_type": "code",
   "execution_count": 14,
   "metadata": {
    "scrolled": true
   },
   "outputs": [
    {
     "name": "stdout",
     "output_type": "stream",
     "text": [
      "new branches made\n",
      "the tree is built\n",
      "the node list is shown here:\n",
      "{'HP': 92.5, 'cylinders': 4}\n"
     ]
    }
   ],
   "source": [
    "def DivideDf(df, column, value):\n",
    "    # Divide the rows into two sets and return them\n",
    "    if isinstance(value,int) or isinstance(value,float):\n",
    "        subset1= df.loc[df[column] > value]\n",
    "        subset2= df.loc[df[column] <= value]\n",
    "    else:\n",
    "        subset1= df.loc[df[column] == value] \n",
    "        subset2= df.loc[df[column] != value]\n",
    "    return (subset1,subset2)\n",
    "\n",
    "subset1,subset2 = DivideDf(set2,column_name,next_node)\n",
    "print ('new branches made')\n",
    "purity_subset1 = purity_test(subset1)\n",
    "purity_subset2 = purity_test(subset2)\n",
    "\n",
    "if purity_subset1 == 'the leaf is pure' and purity_subset2 == 'the leaf is pure':\n",
    "    print 'the tree is built'\n",
    "elif purity_subset1 != 'the leaf is pure' and purity_subset2 == 'the leaf is pure':\n",
    "    print 'subset1 needs further partitioning!'\n",
    "\n",
    "elif purity_subset1 == 'the leaf is pure' and purity_subset2 != 'the leaf is pure':\n",
    "    print 'subset2 needs further partitioning!'\n",
    "    \n",
    "else: print 'both subsets are not pure!'\n",
    "    \n",
    "print 'the node list is shown here:'\n",
    "print node_notetaker\n"
   ]
  },
  {
   "cell_type": "code",
   "execution_count": 15,
   "metadata": {},
   "outputs": [
    {
     "name": "stdout",
     "output_type": "stream",
     "text": [
      "original dataset stat:\n",
      "bad     15\n",
      "good     5\n",
      "Name: MPG, dtype: int64\n",
      "\n",
      "HP > 92.5 \n",
      "bad    13\n",
      "Name: MPG, dtype: int64\n",
      "\n",
      "HP <= 92.5 \n",
      "good    5\n",
      "bad     2\n",
      "Name: MPG, dtype: int64\n",
      "\n",
      "subset_1\n",
      "bad    2\n",
      "Name: MPG, dtype: int64\n",
      "\n",
      "subset_2\n",
      "good    5\n",
      "Name: MPG, dtype: int64\n"
     ]
    }
   ],
   "source": [
    "print 'original dataset stat:\\n',df['MPG'].value_counts()\n",
    "print '\\nHP > 92.5 \\n', set1['MPG'].value_counts()\n",
    "print '\\nHP <= 92.5 \\n', set2['MPG'].value_counts()\n",
    "print '\\nsubset_1\\n', subset1['MPG'].value_counts()\n",
    "print '\\nsubset_2\\n', subset2['MPG'].value_counts()"
   ]
  },
  {
   "cell_type": "code",
   "execution_count": 16,
   "metadata": {},
   "outputs": [
    {
     "data": {
      "text/html": [
       "<div>\n",
       "<table border=\"1\" class=\"dataframe\">\n",
       "  <thead>\n",
       "    <tr style=\"text-align: right;\">\n",
       "      <th></th>\n",
       "      <th>MPG</th>\n",
       "      <th>cylinders</th>\n",
       "      <th>HP</th>\n",
       "      <th>weight</th>\n",
       "    </tr>\n",
       "  </thead>\n",
       "  <tbody>\n",
       "    <tr>\n",
       "      <th>1</th>\n",
       "      <td>bad</td>\n",
       "      <td>6</td>\n",
       "      <td>90</td>\n",
       "      <td>medium</td>\n",
       "    </tr>\n",
       "    <tr>\n",
       "      <th>16</th>\n",
       "      <td>bad</td>\n",
       "      <td>6</td>\n",
       "      <td>85</td>\n",
       "      <td>medium</td>\n",
       "    </tr>\n",
       "  </tbody>\n",
       "</table>\n",
       "</div>"
      ],
      "text/plain": [
       "    MPG  cylinders  HP  weight\n",
       "1   bad          6  90  medium\n",
       "16  bad          6  85  medium"
      ]
     },
     "execution_count": 16,
     "metadata": {},
     "output_type": "execute_result"
    }
   ],
   "source": [
    "subset1"
   ]
  },
  {
   "cell_type": "markdown",
   "metadata": {},
   "source": [
    "f) Draw or show the final decision tree in a format of your choice.  The decision to make at each step and the predicted value at each leaf node must be clear. (4 pts)"
   ]
  },
  {
   "cell_type": "markdown",
   "metadata": {},
   "source": [
    "                                            (good 5; bad 15)\n",
    "                                                HP > 92.5?\n",
    "                                                    /\\\n",
    "                                                 Y /  \\ N\n",
    "                                                  /    \\\n",
    "                                    (good 0, bad 13)   (good 5, bad 2)\n",
    "                                          STOP          Cylinders = 4?   \n",
    "                                                             /\\\n",
    "                                                          Y /  \\ N\n",
    "                                                           /    \\\n",
    "                                              (good 5,bad 0)    (good 0, bad 2) \n",
    "                                                 STOP                STOP\n",
    "           Figure 1. The final decision tree "
   ]
  },
  {
   "cell_type": "markdown",
   "metadata": {},
   "source": [
    "g) Classify each of the following four vehicles as having \"good\" or \"bad\" fuel efficiency (miles per gallon).  Do this by hand using the tree structure learned in part f. (4 pts)\n",
    "\n",
    "bad,8,70,light\n",
    "\n",
    "bad,6,113,medium\n",
    "\n",
    "good,4,83,weighty\n",
    "\n",
    "bad,4,95,weighty\n"
   ]
  },
  {
   "cell_type": "markdown",
   "metadata": {},
   "source": [
    "### Question 3, Predicting burden of disease （40 pts)"
   ]
  },
  {
   "cell_type": "code",
   "execution_count": 17,
   "metadata": {},
   "outputs": [
    {
     "data": {
      "text/html": [
       "<div>\n",
       "<table border=\"1\" class=\"dataframe\">\n",
       "  <thead>\n",
       "    <tr style=\"text-align: right;\">\n",
       "      <th></th>\n",
       "      <th>Country</th>\n",
       "      <th>FrxnPeaceIn10</th>\n",
       "      <th>ODA4H2OPcptaDol</th>\n",
       "      <th>RenewResm3PcptaYr</th>\n",
       "      <th>SustAccImprWatRur</th>\n",
       "      <th>SustAccImprWatUrb</th>\n",
       "      <th>SustAccImprSanRur</th>\n",
       "      <th>SustAccImprSanUrb</th>\n",
       "      <th>TotHlthExpPctofGDP</th>\n",
       "      <th>GenGovtPctofTotHlthExp</th>\n",
       "      <th>ExtResHlthPctTotExpHlth</th>\n",
       "      <th>PCptaGovtExpHlthAvgExcRt</th>\n",
       "      <th>GDPPCptaIntDol</th>\n",
       "      <th>AdultLtrcyRate</th>\n",
       "      <th>FemaleLtrcyRate</th>\n",
       "      <th>BurdenOfDisease</th>\n",
       "    </tr>\n",
       "  </thead>\n",
       "  <tbody>\n",
       "    <tr>\n",
       "      <th>0</th>\n",
       "      <td>Afghanistan</td>\n",
       "      <td>0.1</td>\n",
       "      <td>0.16</td>\n",
       "      <td>2986</td>\n",
       "      <td>0.10891</td>\n",
       "      <td>0.18812</td>\n",
       "      <td>0.049505</td>\n",
       "      <td>0.15842</td>\n",
       "      <td>0.065</td>\n",
       "      <td>0.395</td>\n",
       "      <td>0.4560</td>\n",
       "      <td>4</td>\n",
       "      <td>430</td>\n",
       "      <td>0.35644</td>\n",
       "      <td>0.20792</td>\n",
       "      <td>awful</td>\n",
       "    </tr>\n",
       "    <tr>\n",
       "      <th>1</th>\n",
       "      <td>Albania</td>\n",
       "      <td>1.0</td>\n",
       "      <td>5.58</td>\n",
       "      <td>13306</td>\n",
       "      <td>0.94059</td>\n",
       "      <td>0.98020</td>\n",
       "      <td>0.801980</td>\n",
       "      <td>0.98020</td>\n",
       "      <td>0.065</td>\n",
       "      <td>0.417</td>\n",
       "      <td>0.0340</td>\n",
       "      <td>49</td>\n",
       "      <td>6158</td>\n",
       "      <td>0.85644</td>\n",
       "      <td>0.78713</td>\n",
       "      <td>low</td>\n",
       "    </tr>\n",
       "    <tr>\n",
       "      <th>2</th>\n",
       "      <td>Algeria</td>\n",
       "      <td>0.0</td>\n",
       "      <td>0.33</td>\n",
       "      <td>473</td>\n",
       "      <td>0.79208</td>\n",
       "      <td>0.91089</td>\n",
       "      <td>0.811880</td>\n",
       "      <td>0.98020</td>\n",
       "      <td>0.041</td>\n",
       "      <td>0.808</td>\n",
       "      <td>0.0005</td>\n",
       "      <td>71</td>\n",
       "      <td>4860</td>\n",
       "      <td>0.69307</td>\n",
       "      <td>0.60396</td>\n",
       "      <td>high</td>\n",
       "    </tr>\n",
       "  </tbody>\n",
       "</table>\n",
       "</div>"
      ],
      "text/plain": [
       "       Country  FrxnPeaceIn10  ODA4H2OPcptaDol  RenewResm3PcptaYr  \\\n",
       "0  Afghanistan            0.1             0.16               2986   \n",
       "1      Albania            1.0             5.58              13306   \n",
       "2      Algeria            0.0             0.33                473   \n",
       "\n",
       "   SustAccImprWatRur  SustAccImprWatUrb  SustAccImprSanRur  SustAccImprSanUrb  \\\n",
       "0            0.10891            0.18812           0.049505            0.15842   \n",
       "1            0.94059            0.98020           0.801980            0.98020   \n",
       "2            0.79208            0.91089           0.811880            0.98020   \n",
       "\n",
       "   TotHlthExpPctofGDP  GenGovtPctofTotHlthExp  ExtResHlthPctTotExpHlth  \\\n",
       "0               0.065                   0.395                   0.4560   \n",
       "1               0.065                   0.417                   0.0340   \n",
       "2               0.041                   0.808                   0.0005   \n",
       "\n",
       "   PCptaGovtExpHlthAvgExcRt  GDPPCptaIntDol  AdultLtrcyRate  FemaleLtrcyRate  \\\n",
       "0                         4             430         0.35644          0.20792   \n",
       "1                        49            6158         0.85644          0.78713   \n",
       "2                        71            4860         0.69307          0.60396   \n",
       "\n",
       "  BurdenOfDisease  \n",
       "0           awful  \n",
       "1             low  \n",
       "2            high  "
      ]
     },
     "execution_count": 17,
     "metadata": {},
     "output_type": "execute_result"
    }
   ],
   "source": [
    "data=pd.read_csv(\"Burden of diarrheal illness by country.csv\")\n",
    "data.head(3)"
   ]
  },
  {
   "cell_type": "markdown",
   "metadata": {},
   "source": [
    "### Data dictionary\n",
    "\n",
    "NAME: Burden of diarrheal illness by country\n",
    "\n",
    "SIZE: 130 Countries, 16 Variables\n",
    "\n",
    "VARIABLE DESCRIPTIONS:\n",
    "\n",
    "Country: Country name\n",
    "\n",
    "FrxnPeaceIn10: Fraction of the past ten years in which a country has been at peace \n",
    "\n",
    "ODA4H2OPcptaDol: Per Capita Official Developmental Assistance for water projects\n",
    "\n",
    "RenewResm3PcptaYr: Renewable Water Resources in cubic meters per capita per year\n",
    "\n",
    "SustAccImprWatRur: Fraction of rural population with sustainable access to improved water\n",
    "\n",
    "SustAccImprWatUrb: Fraction of urban population with sustainable access to improved water\n",
    "\n",
    "SustAccImprSanRur: Fraction of rural population with sustainable access to improved sanitation\n",
    "\n",
    "SustAccImprSanUrb: Fraction of urban population with sustainable access to improved sanitation\n",
    "\n",
    "TotHlthExpPctofGDP: Fraction of a country's GDP devoted to health spending\n",
    "\n",
    "GenGovtPctofTotHlthExp: The fraction of total health expenditures for a country which is provided by the government\n",
    "\n",
    "ExtResHlthPctTotExpHlth: The fraction of total health expenditures for a country which is comes from sources external to the country\n",
    "\n",
    "PCptaGovtExpHlthAvgExcRt: Per Capita Government Health Expenditures at the average exchange rate\n",
    "\n",
    "GDPPCptaIntDol: Gross Domestic Product per capita in international dollars\n",
    "\n",
    "AdultLtrcyRate: Adult Literacy rate\n",
    "\n",
    "FemaleLtrcyRate: Female Literacy rate\n",
    "\n",
    "BurdenOfDisease: Our target variable for classification.  The burden of disease due to diarrheal illness, categorized into \"low\", \"medium\", \"high\", and \"awful\" quartiles.  For each country, we have estimates of the number of Disability-Adjusted Life Years lost per 1000 persons per year (DALYs) due to diarrheal illness.  Countries with \"low\" burden of disease have up to 2.75345 DALYs; countries with \"medium\" burden of disease have between 2.75345 and 8.2127 DALYs; countries with \"high\" burden of disease have between 8.2127 and 26.699 DALYs; and countries with \"awful\" burden of diease have more than 26.699 DALYs."
   ]
  },
  {
   "cell_type": "markdown",
   "metadata": {},
   "source": [
    "### Your goal is to train a decision tree classifier for the attribute “BurdenOfDisease\" using all other variables (except country name) as features with sklearn.tree.DecisionTreeClassifier. \n",
    "http://scikit-learn.org/stable/modules/generated/sklearn.tree.DecisionTreeClassifier.html"
   ]
  },
  {
   "cell_type": "markdown",
   "metadata": {},
   "source": [
    "a) Please choose a train/test split and choose a hyper-parameter governing model simplicity, for example, the maximum tree depth or maximum number of leaf nodes. Then, fit your decision tree classifier (using the training set) for different values of this parameter and for each such value, record the corresponding classification accuracy on the test set. (10 pts)"
   ]
  },
  {
   "cell_type": "code",
   "execution_count": 18,
   "metadata": {
    "scrolled": false
   },
   "outputs": [
    {
     "name": "stdout",
     "output_type": "stream",
     "text": [
      "maximum depth is 1\n",
      "Out of sample accuracy: 0.442307692308\n",
      "\n",
      "\n",
      "maximum depth is 2\n",
      "Out of sample accuracy: 0.596153846154\n",
      "\n",
      "\n",
      "maximum depth is 3\n",
      "Out of sample accuracy: 0.596153846154\n",
      "\n",
      "\n",
      "maximum depth is 4\n",
      "Out of sample accuracy: 0.576923076923\n",
      "\n",
      "\n",
      "maximum depth is 5\n",
      "Out of sample accuracy: 0.615384615385\n",
      "\n",
      "\n",
      "maximum depth is 6\n",
      "Out of sample accuracy: 0.634615384615\n",
      "\n",
      "\n",
      "maximum depth is 7\n",
      "Out of sample accuracy: 0.596153846154\n",
      "\n",
      "\n",
      "maximum depth is 8\n",
      "Out of sample accuracy: 0.653846153846\n",
      "\n",
      "\n",
      "maximum depth is 9\n",
      "Out of sample accuracy: 0.653846153846\n",
      "\n",
      "\n",
      "maximum depth is 10\n",
      "Out of sample accuracy: 0.653846153846\n",
      "\n",
      "\n",
      "maximum depth is 11\n",
      "Out of sample accuracy: 0.653846153846\n",
      "\n",
      "\n",
      "maximum depth is 12\n",
      "Out of sample accuracy: 0.653846153846\n",
      "\n",
      "\n",
      "maximum depth is 13\n",
      "Out of sample accuracy: 0.653846153846\n",
      "\n",
      "\n",
      "maximum depth is 14\n",
      "Out of sample accuracy: 0.653846153846\n",
      "\n",
      "\n"
     ]
    }
   ],
   "source": [
    "from sklearn.model_selection import train_test_split\n",
    "from sklearn.tree import DecisionTreeClassifier\n",
    "from sklearn.preprocessing import LabelEncoder\n",
    "\n",
    "# split X and y from the original dataframe:\n",
    "X=np.matrix(data.iloc[:,1:-1])\n",
    "y=np.asarray(data.BurdenOfDisease)\n",
    "\n",
    "# handle the categorical data\n",
    "le = LabelEncoder()\n",
    "le.fit(['low','medium','high','awful'])\n",
    "le.transform(y)\n",
    "\n",
    "\n",
    "# train test split\n",
    "X_train, X_test, y_train, y_test = train_test_split(X, y, test_size = 0.4, random_state = 2018)\n",
    "\n",
    "accuracy = []\n",
    "#decision tree classifier\n",
    "for i in range(1,15):\n",
    "    dt = DecisionTreeClassifier(max_depth = i, random_state = 2018)\n",
    "    dt.fit(X_train,y_train)\n",
    "    accuracy.append(dt.score(X_test,y_test))\n",
    "    print 'maximum depth is %d' %i\n",
    "    #print 'In sample accuracy:',dt.score(X_train,y_train)\n",
    "    print 'Out of sample accuracy:',dt.score(X_test,y_test)\n",
    "    print '\\n'\n"
   ]
  },
  {
   "cell_type": "markdown",
   "metadata": {},
   "source": [
    "b) Make a plot of accuracy vs. simplicity for different values of the hyper-parameter chosen in part a). That is, the x-axis should be hyper-parameter value (e.g. tree depth) and the y-axis should be accuracy. (10 pts)"
   ]
  },
  {
   "cell_type": "code",
   "execution_count": 19,
   "metadata": {},
   "outputs": [
    {
     "data": {
      "text/plain": [
       "[0.44230769230769229,\n",
       " 0.59615384615384615,\n",
       " 0.59615384615384615,\n",
       " 0.57692307692307687,\n",
       " 0.61538461538461542,\n",
       " 0.63461538461538458,\n",
       " 0.59615384615384615,\n",
       " 0.65384615384615385,\n",
       " 0.65384615384615385,\n",
       " 0.65384615384615385,\n",
       " 0.65384615384615385,\n",
       " 0.65384615384615385,\n",
       " 0.65384615384615385,\n",
       " 0.65384615384615385]"
      ]
     },
     "execution_count": 19,
     "metadata": {},
     "output_type": "execute_result"
    }
   ],
   "source": [
    "accuracy"
   ]
  },
  {
   "cell_type": "code",
   "execution_count": 20,
   "metadata": {},
   "outputs": [
    {
     "data": {
      "image/png": "[encoded data removed]",
      "text/plain": [
       "<matplotlib.figure.Figure at 0x7fb622562590>"
      ]
     },
     "metadata": {},
     "output_type": "display_data"
    }
   ],
   "source": [
    "import matplotlib.pylab as plt\n",
    "\n",
    "# your code here\n",
    "plt.figure(figsize=(7,5))\n",
    "plt.plot(range(1,15,1),accuracy)\n",
    "plt.xlabel(\"Max depth\")\n",
    "plt.ylabel(\"Accuracy\")\n",
    "plt.title(\"Accuracy vs Simplicity (max depth)\")\n",
    "plt.show()\n"
   ]
  },
  {
   "cell_type": "markdown",
   "metadata": {},
   "source": [
    "Figure 2. This is a plot that shows the change of accuracy when the max depth changes. We can see that at the depth of 8, the accuracy reaches its maximum value and does not change anymore."
   ]
  },
  {
   "cell_type": "markdown",
   "metadata": {},
   "source": [
    "c) Tune the hyper-parameter you choose in part a) by cross-validation using the training data. You can choose to use the GridSearchCV package from sklearn or write your own code to do cross-validation by spliting the training data into training and validation data. What is the out of sample accuracy after tuning the hyper-parameter? (10 pts)"
   ]
  },
  {
   "cell_type": "code",
   "execution_count": 21,
   "metadata": {},
   "outputs": [
    {
     "name": "stdout",
     "output_type": "stream",
     "text": [
      "best_parms:{'max_depth': 2.0}\n",
      " out of sample:0.596153846154\n"
     ]
    }
   ],
   "source": [
    "from sklearn.model_selection import GridSearchCV\n",
    "\n",
    "thresholds = np.linspace(1,2,50)\n",
    "param_grid = {'max_depth':thresholds}\n",
    "\n",
    "gs = GridSearchCV(DecisionTreeClassifier(random_state = 2019), param_grid, cv=6)\n",
    "model = gs.fit(X_train,y_train)\n",
    "\n",
    "print(\"best_parms:{0}\\n out of sample:{1}\".format(model.best_params_, model.score(X_test, y_test)))\n"
   ]
  },
  {
   "cell_type": "markdown",
   "metadata": {},
   "source": [
    "d) Visualize a simple decision tree (e.g., with max_depth = 2 or 3) learned from the data.  To do so, given your decision tree dt, you can use the code below, then copy and paste the resulting output into http://www.webgraphviz.com.  Alternatively, if you have graphviz installed on your machine, you can use that. (5 pts)"
   ]
  },
  {
   "cell_type": "code",
   "execution_count": 22,
   "metadata": {
    "scrolled": false
   },
   "outputs": [
    {
     "name": "stdout",
     "output_type": "stream",
     "text": [
      "digraph Tree {\n",
      "node [shape=box, style=\"filled, rounded\", color=\"black\", fontname=helvetica] ;\n",
      "edge [fontname=helvetica] ;\n",
      "0 [label=\"GDPPCptaIntDol <= 4141.0, samples = 78, value = [19, 23, 19, 17], class = high\", fillcolor=\"#47e53911\"] ;\n",
      "1 [label=\"SustAccImprSanUrb <= 0.644, samples = 38, value = [18, 18, 1, 1], class = awful\", fillcolor=\"#e5813900\"] ;\n",
      "0 -> 1 [labeldistance=2.5, labelangle=45, headlabel=\"True\"] ;\n",
      "2 [label=\"samples = 24, value = [18, 5, 0, 1], class = awful\", fillcolor=\"#e58139ae\"] ;\n",
      "1 -> 2 ;\n",
      "3 [label=\"samples = 14, value = [0, 13, 1, 0], class = high\", fillcolor=\"#47e539eb\"] ;\n",
      "1 -> 3 ;\n",
      "4 [label=\"GDPPCptaIntDol <= 8727.5, samples = 40, value = [1, 5, 18, 16], class = low\", fillcolor=\"#399de515\"] ;\n",
      "0 -> 4 [labeldistance=2.5, labelangle=-45, headlabel=\"False\"] ;\n",
      "5 [label=\"samples = 24, value = [0, 5, 4, 15], class = medium\", fillcolor=\"#d739e586\"] ;\n",
      "4 -> 5 ;\n",
      "6 [label=\"samples = 16, value = [1, 0, 14, 1], class = low\", fillcolor=\"#399de5dd\"] ;\n",
      "4 -> 6 ;\n",
      "}\n"
     ]
    }
   ],
   "source": [
    "from sklearn import tree\n",
    "\n",
    "dt = DecisionTreeClassifier(max_depth = 2, random_state = 2019)\n",
    "dt.fit(X_train,y_train)\n",
    "\n",
    "thestring=tree.export_graphviz(dt,out_file=None,\n",
    "                         feature_names=data.iloc[:,1:-1].columns.values,  \n",
    "                         class_names=dt.classes_,  \n",
    "                         filled=True, rounded=True,  \n",
    "                         special_characters=True,impurity=False).replace(\"<br/>\",\", \").replace(\"&le;\",\"<=\").replace(\"=<\",\"=\\\"\").replace(\">,\",\"\\\",\")\n",
    "print thestring"
   ]
  },
  {
   "cell_type": "markdown",
   "metadata": {},
   "source": [
    "![result](./webgraphviz.png)"
   ]
  },
  {
   "cell_type": "markdown",
   "metadata": {},
   "source": [
    "### Question 4, Fit a random forest to the data from question 3 (20 pts)\n",
    "\n",
    "a) Please use the same test/train split from previous question and feel free to tune the hyper-parameters for Random Forest model using training data. The package from sklearn is here: http://scikit-learn.org/stable/modules/generated/sklearn.ensemble.RandomForestClassifier.html.\n",
    "Then please report your out of sample prediction result and compare this model's performance with 3c). (10 pts)"
   ]
  },
  {
   "cell_type": "code",
   "execution_count": 23,
   "metadata": {},
   "outputs": [
    {
     "name": "stdout",
     "output_type": "stream",
     "text": [
      "best_parms:{'max_depth': 2.0}\n",
      "out of sample accuracy:0.653846153846\n"
     ]
    }
   ],
   "source": [
    "from sklearn.model_selection import GridSearchCV\n",
    "from sklearn.ensemble import RandomForestClassifier\n",
    "\n",
    "thresholds = np.linspace(1,2,50)\n",
    "param_grid = {'max_depth':thresholds}\n",
    "\n",
    "rfc = GridSearchCV(RandomForestClassifier(max_depth=8,random_state=2018), param_grid, cv=6)\n",
    "gs = rfc.fit(X_train,y_train)\n",
    "\n",
    "print(\"best_parms:{0}\\nout of sample accuracy:{1}\".format(gs.best_params_, gs.score(X_test,y_test)))\n",
    "\n"
   ]
  },
  {
   "cell_type": "markdown",
   "metadata": {
    "collapsed": true
   },
   "source": [
    "b) Write one paragraph comparing the results from those two models (Random Forest vs Decision Tree) in terms of both accuracy and interpretability. (10 pts)"
   ]
  },
  {
   "cell_type": "markdown",
   "metadata": {
    "collapsed": true
   },
   "source": [
    "**As for accuracy, there is a difference between the two methods (random forest performs better, out of sample accuracy = 0.654 while decision tree has 0.596). The difference is not that big might bacause the data in this case is not big/complex enought to show the accuracy difference. From the interpretability side, it is clear that decision tree is a better method to show how the model works (visualizable flow path and much easier to interpret) while it is hard to tell the random forest principles. **"
   ]
  },
  {
   "cell_type": "code",
   "execution_count": null,
   "metadata": {},
   "outputs": [],
   "source": []
  }
 ],
 "metadata": {
  "anaconda-cloud": {},
  "celltoolbar": "Raw Cell Format",
  "kernelspec": {
   "display_name": "PUI2016_Python2",
   "language": "python",
   "name": "pui2016_python2"
  },
  "language_info": {
   "codemirror_mode": {
    "name": "ipython",
    "version": 2
   },
   "file_extension": ".py",
   "mimetype": "text/x-python",
   "name": "python",
   "nbconvert_exporter": "python",
   "pygments_lexer": "ipython2",
   "version": "2.7.12"
  }
 },
 "nbformat": 4,
 "nbformat_minor": 2
}
